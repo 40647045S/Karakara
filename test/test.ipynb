{
 "cells": [
  {
   "cell_type": "code",
   "execution_count": 1,
   "metadata": {},
   "outputs": [],
   "source": [
    "import os\n",
    "import sys\n",
    "sys.path.insert(0, '/tf/develops/Courses/Karakara')"
   ]
  },
  {
   "cell_type": "code",
   "execution_count": 2,
   "metadata": {},
   "outputs": [],
   "source": [
    "import os\n",
    "os.environ[\"CUDA_VISIBLE_DEVICES\"]=\"1\"\n",
    "\n",
    "from tensorflow.compat.v1 import ConfigProto\n",
    "from tensorflow.compat.v1 import InteractiveSession\n",
    "config = ConfigProto()\n",
    "config.gpu_options.allow_growth = True\n",
    "session = InteractiveSession(config=config)\n",
    "\n",
    "from tensorflow import keras"
   ]
  },
  {
   "cell_type": "code",
   "execution_count": 3,
   "metadata": {},
   "outputs": [],
   "source": [
    "import numpy as np\n",
    "from karakara.layers import BatchNormalization"
   ]
  },
  {
   "cell_type": "code",
   "execution_count": 4,
   "metadata": {},
   "outputs": [],
   "source": [
    "image = np.arange(64*3*32*32).reshape(64, 3, 32, 32).astype('float32')"
   ]
  },
  {
   "cell_type": "code",
   "execution_count": 5,
   "metadata": {},
   "outputs": [
    {
     "data": {
      "text/plain": [
       "56755.832"
      ]
     },
     "execution_count": 5,
     "metadata": {},
     "output_type": "execute_result"
    }
   ],
   "source": [
    "image.std()"
   ]
  },
  {
   "cell_type": "code",
   "execution_count": 8,
   "metadata": {},
   "outputs": [],
   "source": [
    "keras_bn_layer = keras.layers.BatchNormalization(axis=1)\n",
    "\n",
    "krkr_bn_layer = BatchNormalization()\n",
    "krkr_bn_layer.build((3, 32, 32))"
   ]
  },
  {
   "cell_type": "code",
   "execution_count": 9,
   "metadata": {},
   "outputs": [],
   "source": [
    "keras_bn_images = keras_bn_layer(image, training=False).numpy()"
   ]
  },
  {
   "cell_type": "code",
   "execution_count": 10,
   "metadata": {},
   "outputs": [],
   "source": [
    "krkr_bn_images = krkr_bn_layer(image, training=False)"
   ]
  },
  {
   "cell_type": "code",
   "execution_count": 12,
   "metadata": {},
   "outputs": [
    {
     "data": {
      "text/plain": [
       "array([97230.9  , 98254.375, 99277.87 ], dtype=float32)"
      ]
     },
     "execution_count": 12,
     "metadata": {},
     "output_type": "execute_result"
    }
   ],
   "source": [
    "keras_bn_images.mean(axis=(0,2,3))"
   ]
  },
  {
   "cell_type": "code",
   "execution_count": 13,
   "metadata": {},
   "outputs": [
    {
     "data": {
      "text/plain": [
       "array([97279.5, 98303.5, 99327.5], dtype=float32)"
      ]
     },
     "execution_count": 13,
     "metadata": {},
     "output_type": "execute_result"
    }
   ],
   "source": [
    "krkr_bn_images.mean(axis=(0,2,3))"
   ]
  },
  {
   "cell_type": "code",
   "execution_count": 14,
   "metadata": {},
   "outputs": [
    {
     "data": {
      "text/plain": [
       "array([56721.324, 56721.33 , 56721.33 ], dtype=float32)"
      ]
     },
     "execution_count": 14,
     "metadata": {},
     "output_type": "execute_result"
    }
   ],
   "source": [
    "np.std(keras_bn_images, axis=(0,2,3))"
   ]
  },
  {
   "cell_type": "code",
   "execution_count": 15,
   "metadata": {},
   "outputs": [
    {
     "data": {
      "text/plain": [
       "array([56749.69, 56749.69, 56749.69], dtype=float32)"
      ]
     },
     "execution_count": 15,
     "metadata": {},
     "output_type": "execute_result"
    }
   ],
   "source": [
    "np.std(krkr_bn_images, axis=(0,2,3))"
   ]
  },
  {
   "cell_type": "code",
   "execution_count": 25,
   "metadata": {},
   "outputs": [
    {
     "name": "stdout",
     "output_type": "stream",
     "text": [
      "Initial loss: 69.855\n",
      "dX: None, dW: 5.027900695800781, dB: 16.086477279663086\n",
      "loss: 67.044\n",
      "dX: None, dW: 3.035536050796509, dB: 10.681242942810059\n",
      "loss: 29.715\n",
      "dX: None, dW: 1.821125864982605, dB: 7.0958356857299805\n",
      "loss: 13.490\n",
      "dX: None, dW: 1.0843671560287476, dB: 4.716280460357666\n",
      "loss: 6.420\n",
      "dX: None, dW: 0.6398235559463501, dB: 3.136199951171875\n",
      "loss: 3.331\n",
      "dX: None, dW: 0.3733154833316803, dB: 2.0864551067352295\n",
      "loss: 1.978\n",
      "dX: None, dW: 0.21475979685783386, dB: 1.3887035846710205\n",
      "loss: 1.384\n",
      "dX: None, dW: 0.12130283564329147, dB: 0.9246958494186401\n",
      "loss: 1.123\n",
      "dX: None, dW: 0.066844642162323, dB: 0.6159852743148804\n",
      "loss: 1.008\n",
      "dX: None, dW: 0.03556690365076065, dB: 0.41050341725349426\n",
      "loss: 0.957\n"
     ]
    }
   ],
   "source": [
    "import tensorflow as tf\n",
    "\n",
    "import os\n",
    "os.environ[\"CUDA_VISIBLE_DEVICES\"]=\"6\"\n",
    "import warnings\n",
    "warnings.filterwarnings('ignore')\n",
    "\n",
    "NUM_EXAMPLES = 1000\n",
    "training_inputs = np.random.randn(NUM_EXAMPLES)\n",
    "noise = np.random.randn(NUM_EXAMPLES)\n",
    "training_outputs = training_inputs * 3 + 2 + noise\n",
    "\n",
    "def loss(weights, biases):\n",
    "    error = training_inputs * weights + biases - training_outputs\n",
    "    return tf.reduce_mean(tf.square(error))\n",
    "\n",
    "train_steps = 200\n",
    "learning_rate = 0.01\n",
    "W = tf.Variable(5.)\n",
    "B = tf.Variable(10.)\n",
    "\n",
    "print(\"Initial loss: {:.3f}\".format(loss(W, B)))\n",
    "\n",
    "for i in range(train_steps):\n",
    "    dW, dB = 0, 0\n",
    "\n",
    "    with tf.GradientTape() as tape:\n",
    "        loss_value = loss(W, B)\n",
    "        x = loss_value * 2\n",
    "    dW, dB, dX = tape.gradient(loss_value, [W, B, x])\n",
    "\n",
    "    W.assign_sub(dW * learning_rate)\n",
    "    B.assign_sub(dB * learning_rate)\n",
    "    if i % 20 == 0:\n",
    "        print(f'dX: {dX}, dW: {dW}, dB: {dB}')"
   ]
  },
  {
   "cell_type": "code",
   "execution_count": null,
   "metadata": {},
   "outputs": [],
   "source": []
  }
 ],
 "metadata": {
  "kernelspec": {
   "display_name": "Python 3",
   "language": "python",
   "name": "python3"
  },
  "language_info": {
   "codemirror_mode": {
    "name": "ipython",
    "version": 3
   },
   "file_extension": ".py",
   "mimetype": "text/x-python",
   "name": "python",
   "nbconvert_exporter": "python",
   "pygments_lexer": "ipython3",
   "version": "3.6.9"
  },
  "toc": {
   "base_numbering": 1,
   "nav_menu": {},
   "number_sections": true,
   "sideBar": true,
   "skip_h1_title": false,
   "title_cell": "Table of Contents",
   "title_sidebar": "Contents",
   "toc_cell": false,
   "toc_position": {},
   "toc_section_display": true,
   "toc_window_display": false
  }
 },
 "nbformat": 4,
 "nbformat_minor": 4
}
